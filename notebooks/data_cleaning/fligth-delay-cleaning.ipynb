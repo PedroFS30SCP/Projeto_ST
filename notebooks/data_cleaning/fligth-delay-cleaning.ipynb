{
 "cells": [
  {
   "cell_type": "markdown",
   "id": "caf0a34a",
   "metadata": {},
   "source": [
    "# 📈 ASTP – Projeto Final\n",
    "## Previsão de atrasos e cancelamentos de voos nos Estados Unidos, com base em fatores meteorológicos\n",
    "\n",
    "### 👥 Grupo XX\n",
    "- **Pedro Fonte Santa**, nº 105306  \n",
    "- **Rafael Alexandre Dias Andorinha**, nº 131000  \n",
    "- **Vasco Marques**, nº [Número de Aluno]  \n",
    "\n",
    "---\n",
    "\n",
    "📅 **Data de entrega:** 19 de maio de 2025  \n",
    "\n",
    "**Objetivo deste Notebook**: Este notebook corresponde à limpeza do dataset do **Kaggle** de Previsão de estados de Voos no EUA.\n",
    "\n",
    "---\n",
    "\n",
    "### 🗂️ Datasets:\n",
    "- [Previsão de estados de Voos (Kaggle)](https://www.kaggle.com/datasets/robikscube/flight-delay-dataset-20182022/data?select=raw)  \n",
    "- [Eventos Climáticos nos EUA (Kaggle)](https://www.kaggle.com/datasets/sobhanmoosavi/us-weather-events/data)\n"
   ]
  },
  {
   "cell_type": "code",
   "execution_count": 1,
   "id": "20a81efa",
   "metadata": {},
   "outputs": [],
   "source": [
    "import pandas as pd\n",
    "from pathlib import Path"
   ]
  },
  {
   "cell_type": "markdown",
   "id": "c98c8775",
   "metadata": {},
   "source": [
    "### Limpeza do dataset Original\n",
    "\n",
    "> Vai ser feito usando os ficherios parquet para melhorar a performance de leitura e processamento"
   ]
  },
  {
   "cell_type": "code",
   "execution_count": 7,
   "id": "a43ed6f8",
   "metadata": {},
   "outputs": [],
   "source": [
    "base_path = Path(\"../data/parquet\") "
   ]
  },
  {
   "cell_type": "markdown",
   "id": "f80edd3f",
   "metadata": {},
   "source": [
    "> Vamos agregar os dados por dia: Número de voos atrasados (>15 min) e número de voos cancelados por dia"
   ]
  },
  {
   "cell_type": "code",
   "execution_count": null,
   "id": "ceee7703",
   "metadata": {},
   "outputs": [],
   "source": [
    "# Lista de anos\n",
    "anos = [\"2018\", \"2019\", \"2020\", \"2021\", \"2022\"]\n",
    "\n",
    "# Lista para guardar os dataframes de cada ano\n",
    "dfs = []\n",
    "\n",
    "for ano in anos:\n",
    "    file_path = base_path / f\"Combined_Flights_{ano}.parquet\"\n",
    "    print(f\"Lendo {file_path}\")\n",
    "    \n",
    "    df = pd.read_parquet(file_path, columns=[\"FlightDate\", \"DepDel15\", \"Cancelled\"])\n",
    "    \n",
    "    # Agrupamento diário\n",
    "    df_grouped = df.groupby(\"FlightDate\").agg({\n",
    "        \"DepDel15\": \"sum\",\n",
    "        \"Cancelled\": \"sum\"\n",
    "    }).rename(columns={\"DepDel15\": \"Atrasos\", \"Cancelled\": \"Cancelamentos\"})\n",
    "    \n",
    "    dfs.append(df_grouped)\n",
    "\n",
    "# Concatenar todos os anos\n",
    "series_diarias = pd.concat(dfs)\n",
    "series_diarias = series_diarias.sort_index()"
   ]
  },
  {
   "cell_type": "code",
   "execution_count": 4,
   "id": "1e3020bd",
   "metadata": {},
   "outputs": [
    {
     "name": "stdout",
     "output_type": "stream",
     "text": [
      "            Atrasos  Cancelamentos\n",
      "FlightDate                        \n",
      "2018-01-01   4331.0            129\n",
      "2018-01-02   4277.0            110\n",
      "2018-01-03   3576.0            449\n",
      "2018-01-04   2043.0           3001\n",
      "2018-01-05   3525.0           1007\n",
      "            Atrasos  Cancelamentos\n",
      "FlightDate                        \n",
      "2022-07-27   4454.0            212\n",
      "2022-07-28   4830.0            610\n",
      "2022-07-29   5049.0            294\n",
      "2022-07-30   4078.0            256\n",
      "2022-07-31   4907.0            482\n"
     ]
    }
   ],
   "source": [
    "# Visualização rápida\n",
    "print(series_diarias.head())\n",
    "print(series_diarias.tail())"
   ]
  },
  {
   "cell_type": "markdown",
   "id": "26ba61af",
   "metadata": {},
   "source": [
    "> Vamos guardar os dados por dia: Número de voos atrasados (>15 min) e número de voos cancelados, num novo CSV usado no trabalho **flight-delay-dataset-2021-2022_Final.csv**"
   ]
  },
  {
   "cell_type": "code",
   "execution_count": 6,
   "id": "547ea1f7",
   "metadata": {},
   "outputs": [],
   "source": [
    "# Salvar o resultado final\n",
    "series_diarias.to_csv(\"../dataset/flight-delay-dataset-2018-2022_Final.csv\", index=True)"
   ]
  },
  {
   "cell_type": "markdown",
   "id": "d81011ec",
   "metadata": {},
   "source": [
    "### Para o relatorio\n",
    "\n",
    "Este notebook trata do pré-processamento do dataset principal com informações sobre o número diário de **atrasos** e **cancelamentos** de voos entre 2018 e 2022.\n",
    "\n",
    "As principais operações realizadas foram:\n",
    "- Dados agregados por dia: Número de voos atrasados (>15 min) e número de voos cancelados por dia\n",
    "- Conversão da coluna `FlightDate` para o formato datetime e definição como índice temporal.\n",
    "- Verificação da qualidade dos dados, incluindo valores nulos e consistência temporal.\n",
    "- Exportação do dataset final tratado com as colunas `Atrasos` e `Cancelamentos`, prontos para integração nos modelos clássicos, de deep learning e nas análises multivariadas (ex: Granger Causality).\n",
    "\n",
    "Este dataset será utilizado como base para todos os modelos e análises desenvolvidos ao longo do projeto.\n"
   ]
  }
 ],
 "metadata": {
  "kernelspec": {
   "display_name": "Python 3",
   "language": "python",
   "name": "python3"
  },
  "language_info": {
   "codemirror_mode": {
    "name": "ipython",
    "version": 3
   },
   "file_extension": ".py",
   "mimetype": "text/x-python",
   "name": "python",
   "nbconvert_exporter": "python",
   "pygments_lexer": "ipython3",
   "version": "3.12.0"
  }
 },
 "nbformat": 4,
 "nbformat_minor": 5
}
